{
 "cells": [
  {
   "cell_type": "markdown",
   "metadata": {},
   "source": [
    "# Lista de Exercícios 1 (soluções propostas)\n",
    "\n",
    "*Exercícios retirados do livro: [The Python Workbook - Ben Stephenson](https://link.springer.com/book/10.1007/978-3-319-14240-1).*\n",
    "\n",
    "Não é um gabarito fechado. As soluções encontradas aqui são apenas algumas possibilidades. Usem a criatividade!"
   ]
  },
  {
   "cell_type": "markdown",
   "metadata": {},
   "source": [
    "### QUESTÃO 1:\n",
    "\n",
    "Vamos calcular a soma dos $n$ primeiros inteiros positivos? Podemos resolver isso de várias formas, mas por agora, a tarefa é fazer um programa que recebe um inteiro positivo $n$ e, em seguida, calcula a soma de todos os inteiros positivos de $1$ a $n$. \n",
    "\n",
    "Lembram da fórmula? \n",
    "\n",
    "$$S_n = \\frac{n(n+1)}{2}$$"
   ]
  },
  {
   "cell_type": "markdown",
   "metadata": {},
   "source": [
    "Inicialmente, vamos resolver por meio do ``input()`` e do ``print()``:"
   ]
  },
  {
   "cell_type": "code",
   "execution_count": 1,
   "metadata": {},
   "outputs": [
    {
     "name": "stdout",
     "output_type": "stream",
     "text": [
      "Digite um número inteiro: 10\n",
      "A soma dos 10 primeiros inteiros positivos é 55.0\n"
     ]
    }
   ],
   "source": [
    "n=int(input('Digite um número inteiro: '))\n",
    "\n",
    "soma=(n*(n+1))/2\n",
    "\n",
    "print('A soma dos ' + str(n) + ' primeiros inteiros positivos é ' + str(soma))"
   ]
  },
  {
   "cell_type": "markdown",
   "metadata": {},
   "source": [
    "Agora, usando a ideia de funções:"
   ]
  },
  {
   "cell_type": "code",
   "execution_count": 2,
   "metadata": {},
   "outputs": [],
   "source": [
    "def somaN(x):\n",
    "    return (x*(x+1))/2"
   ]
  },
  {
   "cell_type": "code",
   "execution_count": 3,
   "metadata": {},
   "outputs": [
    {
     "data": {
      "text/plain": [
       "55.0"
      ]
     },
     "execution_count": 3,
     "metadata": {},
     "output_type": "execute_result"
    }
   ],
   "source": [
    "somaN(10)"
   ]
  },
  {
   "cell_type": "markdown",
   "metadata": {},
   "source": [
    "Nesse caso, foi definida uma função chamada ``somaN(x)``, que recebe como **parâmetro de entrada** o mesmo número $n$ que o usuário digitaria no ``input()``. Aqui, no lugar de printar o resultado, fazemos o ``retunrn`` e chamamos a função com o valor do $x$ desejado. "
   ]
  },
  {
   "cell_type": "markdown",
   "metadata": {},
   "source": [
    "### QUESTÃO 2:\n",
    "\n",
    "Uma forma de calcular a área de um triângulo é por meio de uma fórmula que depende do comprimento de todos os seus lados: $s_1$, $s_2$ e $s_3$. Seja \n",
    "\n",
    "$$s=\\frac{(s_1+s_2+s_3)}{2}$$\n",
    "\n",
    ", podemos calcular a área da seguinte forma:\n",
    "\n",
    "$$A=\\sqrt{s\\times(s-s_1)\\times(s-s_2)\\times(s-s_3)}$$\n",
    "\n",
    "Crie um programa que receba os comprimentos de todos os lados de um triângulo e exiba a sua área."
   ]
  },
  {
   "cell_type": "markdown",
   "metadata": {},
   "source": [
    "**Condição de existência de um triângulo (ou desigualdade traingular)**: para construirmos um triângulos é necessário que a medida de qualquer um dos lados seja menor que a soma das medidas dos outros dois e maior que o valor absoluto da diferença entre essas medidas.\n",
    "\n",
    "Dado um triângulo cujos lados são $a$, $b$ e $c$, esse triângulo somente existirá se:\n",
    "\n",
    "$$\\begin{array}{lcl}  \n",
    "a + b & < &  c \\\\ \n",
    "a + c & < &  b \\\\ \n",
    "b + c & < & a\\end{array}$$\n",
    "\n",
    "Esse conjunto de inequações é conhecido como **desigualdade triangular**."
   ]
  },
  {
   "cell_type": "code",
   "execution_count": 4,
   "metadata": {},
   "outputs": [],
   "source": [
    "import math"
   ]
  },
  {
   "cell_type": "markdown",
   "metadata": {},
   "source": [
    "Inicialmente, vamos resolver por meio do ``input()`` e do ``print()``:"
   ]
  },
  {
   "cell_type": "code",
   "execution_count": 5,
   "metadata": {},
   "outputs": [
    {
     "name": "stdout",
     "output_type": "stream",
     "text": [
      "Digite o lado s1 do triângulo: 10\n",
      "Digite o lado s2 do triângulo: 20\n",
      "Digite o lado s3 do triângulo: 30\n",
      "A área do triângulo é 0.0 unidades quadradas.\n"
     ]
    }
   ],
   "source": [
    "s1=float(input(\"Digite o lado s1 do triângulo: \"))\n",
    "s2=float(input(\"Digite o lado s2 do triângulo: \"))\n",
    "s3=float(input(\"Digite o lado s3 do triângulo: \"))\n",
    "\n",
    "s=(s1+s2+s3)/2\n",
    "A=math.sqrt(s*(s-s1)*(s-s2)*(s-s3))\n",
    "\n",
    "print(\"A área do triângulo é {} unidades quadradas.\".format(A))"
   ]
  },
  {
   "cell_type": "markdown",
   "metadata": {},
   "source": [
    "Mas você pode inserir números que não formem um triângulo. Não seria legal criar uma função para testar se os números passados, de fato, correspondem aos lados de um triângulo? Vamos definir a função ``triangulo(a,b,c)``: "
   ]
  },
  {
   "cell_type": "code",
   "execution_count": 6,
   "metadata": {},
   "outputs": [],
   "source": [
    "def triangulo(a,b,c):\n",
    "    if a<b+c and b<a+c and c<a+b:\n",
    "        tri=True\n",
    "    else:\n",
    "        tri=False\n",
    "    return tri"
   ]
  },
  {
   "cell_type": "code",
   "execution_count": 7,
   "metadata": {},
   "outputs": [
    {
     "data": {
      "text/plain": [
       "False"
      ]
     },
     "execution_count": 7,
     "metadata": {},
     "output_type": "execute_result"
    }
   ],
   "source": [
    "triangulo(s1,s2,s3)"
   ]
  },
  {
   "cell_type": "code",
   "execution_count": 8,
   "metadata": {},
   "outputs": [],
   "source": [
    "def areaTriangulo(s1,s2,s3):\n",
    "    if triangulo(s1,s2,s3)==False:\n",
    "        print('ERRO! Os números não correspondem aos lados de um triângulo!')\n",
    "        return\n",
    "    else:\n",
    "        s=(s1+s2+s3)/2\n",
    "    return math.sqrt(s*(s-s1)*(s-s2)*(s-s3))"
   ]
  },
  {
   "cell_type": "code",
   "execution_count": 9,
   "metadata": {},
   "outputs": [
    {
     "name": "stdout",
     "output_type": "stream",
     "text": [
      "ERRO! Os números não correspondem aos lados de um triângulo!\n"
     ]
    }
   ],
   "source": [
    "areaTriangulo(s1,s2,s3)"
   ]
  },
  {
   "cell_type": "code",
   "execution_count": 10,
   "metadata": {},
   "outputs": [
    {
     "data": {
      "text/plain": [
       "160.15129565507735"
      ]
     },
     "execution_count": 10,
     "metadata": {},
     "output_type": "execute_result"
    }
   ],
   "source": [
    "areaTriangulo(16,21,30)"
   ]
  },
  {
   "cell_type": "markdown",
   "metadata": {},
   "source": [
    "### QUESTÃO 3:\n",
    "\n",
    "Crie um programa que receba um número inteiro de 4 dígitos e exiba a soma desses dígitos. Por exemplo, se o número for 2020, seu programa deverá retornar $2+0+2+0=4$."
   ]
  },
  {
   "cell_type": "markdown",
   "metadata": {},
   "source": [
    "Inicialmente, vamos resolver por meio do ``input()`` e do ``print()``:"
   ]
  },
  {
   "cell_type": "code",
   "execution_count": 13,
   "metadata": {},
   "outputs": [
    {
     "name": "stdout",
     "output_type": "stream",
     "text": [
      "Digite um número de 4 dígitos: 2020\n",
      "A soma dos 4 dígitos do número 2020 é 4.\n"
     ]
    }
   ],
   "source": [
    "num=input(\"Digite um número de 4 dígitos: \")\n",
    "\n",
    "soma=int(num[0]) \n",
    "soma+=int(num[1]) #soma=soma+algo\n",
    "soma+=int(num[2])\n",
    "soma+=int(num[3])\n",
    "\n",
    "print(\"A soma dos 4 dígitos do número \" + num + \" é {}.\".format(soma))"
   ]
  },
  {
   "cell_type": "markdown",
   "metadata": {},
   "source": [
    "Agora, usando a ideia de funções:"
   ]
  },
  {
   "cell_type": "code",
   "execution_count": 14,
   "metadata": {},
   "outputs": [],
   "source": [
    "def somaDigitos(num):\n",
    "    soma=0\n",
    "    for i in str(num):\n",
    "        soma=soma+int(i)\n",
    "    return soma"
   ]
  },
  {
   "cell_type": "code",
   "execution_count": 15,
   "metadata": {},
   "outputs": [
    {
     "data": {
      "text/plain": [
       "4"
      ]
     },
     "execution_count": 15,
     "metadata": {},
     "output_type": "execute_result"
    }
   ],
   "source": [
    "somaDigitos(2020)"
   ]
  },
  {
   "cell_type": "code",
   "execution_count": 16,
   "metadata": {},
   "outputs": [],
   "source": [
    "def somaDigitos2(num):\n",
    "    lista=[int(i) for i in str(num)]\n",
    "    return sum(lista)"
   ]
  },
  {
   "cell_type": "code",
   "execution_count": 17,
   "metadata": {},
   "outputs": [
    {
     "data": {
      "text/plain": [
       "4"
      ]
     },
     "execution_count": 17,
     "metadata": {},
     "output_type": "execute_result"
    }
   ],
   "source": [
    "somaDigitos2(2020)"
   ]
  },
  {
   "cell_type": "markdown",
   "metadata": {},
   "source": [
    "### QUESTÃO 4:\n",
    "\n",
    "Crie um programa que recebe três números inteiros e os exiba em ordem crescente.\n",
    "\n",
    "Dica: as funções `max()` e `min()` poderão ser úteis!"
   ]
  },
  {
   "cell_type": "markdown",
   "metadata": {},
   "source": [
    "Inicialmente, vamos resolver por meio do ``input()`` e do ``print()``:"
   ]
  },
  {
   "cell_type": "code",
   "execution_count": 18,
   "metadata": {},
   "outputs": [
    {
     "name": "stdout",
     "output_type": "stream",
     "text": [
      "Digite o primeiro número: 123\n",
      "Digite o segundo número: 12\n",
      "Digite o terceiro número: 190\n",
      "Os valores em ordem crescente são: 12, 123, 190.\n"
     ]
    }
   ],
   "source": [
    "n1=int(input(\"Digite o primeiro número: \"))\n",
    "n2=int(input(\"Digite o segundo número: \"))\n",
    "n3=int(input(\"Digite o terceiro número: \"))\n",
    "\n",
    "menor=min(n1, n2, n3)\n",
    "maior=max(n1, n2, n3)\n",
    "medio=(n1+n2+n3) - menor - maior\n",
    "\n",
    "print(\"Os valores em ordem crescente são: {}, {}, {}.\".format(menor, medio, maior))"
   ]
  },
  {
   "cell_type": "markdown",
   "metadata": {},
   "source": [
    "Agora, usando a ideia de função e de condicionais:"
   ]
  },
  {
   "cell_type": "code",
   "execution_count": 19,
   "metadata": {},
   "outputs": [],
   "source": [
    "def ordem(n1, n2, n3):\n",
    "    if n1>n2:\n",
    "        if n1>n3: #n1 é maior que os dois outros\n",
    "            terceiro=n1\n",
    "            if n2>n3: #n2 é segundo maior e n3 é o menor\n",
    "                segundo=n2\n",
    "                primeiro=n3\n",
    "            else: #n3 é segundo maior e n2 é o menor\n",
    "                segundo=n3\n",
    "                primeiro=n2\n",
    "        else: #n3 é o maior de todos\n",
    "            terceiro=n3\n",
    "            segundo=n1 #n1 é segundo maior e n2 é o menor\n",
    "            primeiro=n2\n",
    "    else:\n",
    "        if n2>n3: #n2 é o maior de todos\n",
    "            terceiro=n2\n",
    "            if n1>n3: #n1 é o segundo maior e n3 é o menor\n",
    "                segundo=n1\n",
    "                primeiro=n3\n",
    "            else: #n3 é o segundo maior e n1 é o menor\n",
    "                segundo=n3\n",
    "                primeiro=n1\n",
    "        else: #n3 é o maior de todos\n",
    "            terceiro=n3\n",
    "            segundo=n2 #n2 é segundo maior e n1 é o menor\n",
    "            primeiro=n1\n",
    "    return (primeiro, segundo, terceiro)"
   ]
  },
  {
   "cell_type": "code",
   "execution_count": 20,
   "metadata": {},
   "outputs": [
    {
     "data": {
      "text/plain": [
       "(1, 3, 5)"
      ]
     },
     "execution_count": 20,
     "metadata": {},
     "output_type": "execute_result"
    }
   ],
   "source": [
    "ordem(3, 5, 1)"
   ]
  },
  {
   "cell_type": "markdown",
   "metadata": {},
   "source": [
    "### QUESTÃO 5:\n",
    "\n",
    "É vogal ou consoante? A ideia é você criar um programa que classifica uma letra do alfabeto passada pelo usuário e devolve uma menssagem informando a sua classificação. "
   ]
  },
  {
   "cell_type": "markdown",
   "metadata": {},
   "source": [
    "Inicialmente, vamos resolver por meio do ``input()`` e do ``print()``:"
   ]
  },
  {
   "cell_type": "code",
   "execution_count": 21,
   "metadata": {},
   "outputs": [
    {
     "name": "stdout",
     "output_type": "stream",
     "text": [
      "Digite uma letra do alfabeto: W\n",
      "A letra w é uma consoante!\n"
     ]
    }
   ],
   "source": [
    "letra=input('Digite uma letra do alfabeto: ').lower()\n",
    "\n",
    "if letra=='a' or letra=='e' or letra=='i' or letra=='o' or letra=='u':\n",
    "    print('A letra {} é uma volgal!'.format(letra))\n",
    "else:\n",
    "    print('A letra {} é uma consoante!'.format(letra))"
   ]
  },
  {
   "cell_type": "code",
   "execution_count": 22,
   "metadata": {},
   "outputs": [],
   "source": [
    "def classificaLetra(letra):\n",
    "    vogais=['a', 'e', 'i', 'o', 'u']\n",
    "    if letra.lower() in vogais:\n",
    "        return 'vogal'  \n",
    "    else:\n",
    "        return 'consoante'"
   ]
  },
  {
   "cell_type": "markdown",
   "metadata": {},
   "source": [
    "Pensar em um `return` que seja útil caso essa função seja utilizada como auxiliar de uma outra função. Retornar textos grandes não é prático para realizar comparações. Calma! Iremos trabalhar mais esse conceito. "
   ]
  },
  {
   "cell_type": "code",
   "execution_count": 23,
   "metadata": {},
   "outputs": [
    {
     "data": {
      "text/plain": [
       "'consoante'"
      ]
     },
     "execution_count": 23,
     "metadata": {},
     "output_type": "execute_result"
    }
   ],
   "source": [
    "classificaLetra('W')"
   ]
  },
  {
   "cell_type": "markdown",
   "metadata": {},
   "source": [
    "No lugar de criar uma função que classifica uma letra, poderia ter sido criada uma função que testa se dada letra é uma vogal:"
   ]
  },
  {
   "cell_type": "code",
   "execution_count": 24,
   "metadata": {},
   "outputs": [],
   "source": [
    "def vogal(letra):\n",
    "    vogais='aeiou'\n",
    "    if letra.lower() in vogais:\n",
    "        return True\n",
    "    else:\n",
    "        return False"
   ]
  },
  {
   "cell_type": "code",
   "execution_count": 25,
   "metadata": {},
   "outputs": [
    {
     "data": {
      "text/plain": [
       "True"
      ]
     },
     "execution_count": 25,
     "metadata": {},
     "output_type": "execute_result"
    }
   ],
   "source": [
    "vogal('A')"
   ]
  },
  {
   "cell_type": "markdown",
   "metadata": {},
   "source": [
    "Perceba que as letras que pertencem ao conjunto de vogais foram definidas de três formas diferentes:\n",
    "* strings separadas\n",
    "\n",
    "```python\n",
    "if letra=='a' or letra=='e' or letra=='i' or letra=='o' or letra=='u':\n",
    "```\n",
    "\n",
    "* strings que formam uma palavra maior (que também é uma string)\n",
    "\n",
    "```python\n",
    "vogais='aeiou'\n",
    "if letra.lower() in vogais:\n",
    "```\n",
    "\n",
    "* uma lista (ainda iremos explorar esse tipo de dados)\n",
    "\n",
    "```python\n",
    "vogais=['a', 'e', 'i', 'o', 'u']\n",
    "if letra.lower() in vogais:\n",
    "```"
   ]
  },
  {
   "cell_type": "code",
   "execution_count": 26,
   "metadata": {},
   "outputs": [
    {
     "data": {
      "text/plain": [
       "['a', 'e', 'i', 'o', 'u']"
      ]
     },
     "execution_count": 26,
     "metadata": {},
     "output_type": "execute_result"
    }
   ],
   "source": [
    "vogais='aeiou'\n",
    "list(vogais)"
   ]
  },
  {
   "cell_type": "markdown",
   "metadata": {},
   "source": [
    "### QUESTÃO 6:\n",
    "\n",
    "Quantos dias tem um determinado mês? Sabemos que a duração de um mês pode variar de 28 a 31 dias. A ideia é criar um programa que, de acordo com o nome do mês que receber, exibe uma menssagem informando a quantidade de dias. Lembrando que fevereiro pode variar entre \"28 ou 29 dias\". "
   ]
  },
  {
   "cell_type": "markdown",
   "metadata": {},
   "source": [
    "Vamos resolver por meio do ``input()`` e do ``print()``:"
   ]
  },
  {
   "cell_type": "code",
   "execution_count": 42,
   "metadata": {},
   "outputs": [
    {
     "name": "stdout",
     "output_type": "stream",
     "text": [
      "Digite um mês: jan\n",
      "ERRO! Vocês não digitou um mês válido!\n",
      "Digite um mês: janeiro\n",
      "Janeiro tem 31 dias!\n"
     ]
    }
   ],
   "source": [
    "meses=['janeiro','fevereiro','março','abril','maio','junho','julho','agosto','setembro','outubro','novembro','dezembro']\n",
    "mes=input(\"Digite um mês: \").lower()\n",
    "\n",
    "erro=True\n",
    "while erro:\n",
    "    if mes not in meses:\n",
    "        print('ERRO! Vocês não digitou um mês válido!')\n",
    "        mes = input(\"Digite um mês: \").lower()\n",
    "    else:\n",
    "        erro=False\n",
    "    \n",
    "    \n",
    "if mes == 'abril' or mes == 'junho' or mes == 'setembro' or mes == 'novembro':\n",
    "    dias=30\n",
    "elif mes == \"fevereiro\":\n",
    "    dias=\"28 ou 29\"\n",
    "else:\n",
    "    dias=31\n",
    "    \n",
    "print(mes.title(), 'tem', dias, 'dias!')"
   ]
  },
  {
   "cell_type": "markdown",
   "metadata": {},
   "source": [
    "### QUESTÃO 7:\n",
    "\n",
    "As posições em um tabuleiro de xadrez são identificadas por uma **letra** (coluna) e um **número** (linha), conforme mostrado abaixo:\n",
    "\n",
    "![](figuras/imagem01.png)\n",
    "\n",
    "Desenvolva um programa que receba uma posição e determina a cor do quadrado. Por exemplo, para a posição **a1**, o seu programa deverá informar que o quadrado é **preto**; para a posição **d5**, deverá informar que o quadrado é **branco**."
   ]
  },
  {
   "cell_type": "code",
   "execution_count": 44,
   "metadata": {},
   "outputs": [
    {
     "name": "stdout",
     "output_type": "stream",
     "text": [
      "Digite uma posição do tabuleiro de xadrez: d5\n",
      "A posição d5 do tabuleiro possui quadrado Branco!\n"
     ]
    }
   ],
   "source": [
    "gridPos = input(\"Digite uma posição do tabuleiro de xadrez: \")\n",
    "\n",
    "col=gridPos[0].lower()\n",
    "lin=int(gridPos[1])\n",
    "\n",
    "# cor de início da coluna\n",
    "if col in \"aceg\":\n",
    "    colQuadradoPreto=True\n",
    "else:\n",
    "    colQuadradoPreto=False\n",
    "    \n",
    "if colQuadradoPreto:\n",
    "    if lin%2==0:\n",
    "        quadradoBranco=True\n",
    "    else:\n",
    "        quadradoBranco=False\n",
    "else:\n",
    "    if lin%2==0:\n",
    "        quadradoBranco=False\n",
    "    else:\n",
    "        quadradoBranco=True\n",
    "\n",
    "if quadradoBranco:\n",
    "    print('A posição', gridPos, 'do tabuleiro possui quadrado Branco!')\n",
    "else:\n",
    "    print('A posição', gridPos, 'do tabuleiro possui quadrado Preto!')"
   ]
  },
  {
   "cell_type": "markdown",
   "metadata": {},
   "source": [
    "### QUESTÃO 8:\n",
    "\n",
    "Crie um programa que recebe um **mês** e um **dia** e, em seguida, de acordo com as classificações da tabela, determina a estação do ano correspondente. \n",
    "\n",
    "| Estação    \t| Data de Início \t|\n",
    "|------------\t|----------------\t|\n",
    "| Outono     \t| 20 de março    \t|\n",
    "| Inverno    \t| 20 de junho    \t|\n",
    "| Primavera  \t| 22 de setembro \t|\n",
    "| Verão      \t| 21 de dezembro \t|"
   ]
  },
  {
   "cell_type": "code",
   "execution_count": 45,
   "metadata": {},
   "outputs": [],
   "source": [
    "def estacao(dia, mes):\n",
    "    mes=mes.lower()\n",
    "    \n",
    "    if mes=='janeiro' or mes=='fevereiro':\n",
    "        estacao='Verão'\n",
    "        \n",
    "    elif mes=='marco':\n",
    "        if dia<20:\n",
    "            estacao='Verão'\n",
    "        else:\n",
    "            estacao='Outono'  \n",
    "            \n",
    "    elif mes=='abril' or mes=='maio':\n",
    "        estacao='Outono'\n",
    "        \n",
    "    elif mes=='junho':\n",
    "        if dia<20:\n",
    "            estacao='Outono'\n",
    "        else:\n",
    "            estacao='Inverno'\n",
    "    \n",
    "    elif mes=='julho' or mes=='agosto':\n",
    "        estacao='Inverno'\n",
    "    \n",
    "    elif mes=='setembro':\n",
    "        if dia<22:\n",
    "            estacao='Inverno'\n",
    "        else:\n",
    "            estacao='Primavera'\n",
    "            \n",
    "    elif mes=='outubro' or mes=='novembro':\n",
    "        estacao='Primavera'\n",
    "    \n",
    "    elif mes=='dezembro':\n",
    "        if dia<21:\n",
    "            estacao='Primavera'\n",
    "        else:\n",
    "            estacao='Verão'\n",
    "        \n",
    "    return estacao"
   ]
  },
  {
   "cell_type": "code",
   "execution_count": 46,
   "metadata": {},
   "outputs": [
    {
     "data": {
      "text/plain": [
       "'Outono'"
      ]
     },
     "execution_count": 46,
     "metadata": {},
     "output_type": "execute_result"
    }
   ],
   "source": [
    "estacao(11, 'junho')"
   ]
  },
  {
   "cell_type": "markdown",
   "metadata": {},
   "source": [
    "### QUESTÃO 9:\n",
    "\n",
    "As regras para determinar se um ano é ou não um bissexto são as seguintes:\n",
    "\n",
    "* Qualquer ano divisível por 400 é um ano bissexto.\n",
    "\n",
    "\n",
    "* Dos anos restantes, qualquer ano divisível por 100 não é um ano bissexto.\n",
    "\n",
    "\n",
    "* Dos anos restantes, qualquer ano divisível por 4 é um ano bissexto.\n",
    "\n",
    "\n",
    "* Todos os outros anos não são anos bissextos.\n",
    "\n",
    "\n",
    "Escreva um programa que a partir de um ano informado, determina se o ano é ou não bissexto."
   ]
  },
  {
   "cell_type": "code",
   "execution_count": 47,
   "metadata": {},
   "outputs": [],
   "source": [
    "def bissexto(ano):\n",
    "    if ano%400==0:\n",
    "        anoBissexto=True\n",
    "    elif ano%100==0:\n",
    "        anoBissexto=True\n",
    "    elif ano%4==0:\n",
    "        anoBissexto=True\n",
    "    else:\n",
    "        anoBissexto=False\n",
    "        \n",
    "    return anoBissexto"
   ]
  },
  {
   "cell_type": "code",
   "execution_count": 48,
   "metadata": {},
   "outputs": [
    {
     "data": {
      "text/plain": [
       "True"
      ]
     },
     "execution_count": 48,
     "metadata": {},
     "output_type": "execute_result"
    }
   ],
   "source": [
    "bissexto(2020)"
   ]
  },
  {
   "cell_type": "code",
   "execution_count": 49,
   "metadata": {},
   "outputs": [
    {
     "name": "stdout",
     "output_type": "stream",
     "text": [
      "1992\n",
      "1996\n",
      "2000\n",
      "2004\n",
      "2008\n",
      "2012\n",
      "2016\n",
      "2020\n"
     ]
    }
   ],
   "source": [
    "# Lista com os últimas anos bissextos\n",
    "for i in range(1991,2021):\n",
    "    if bissexto(i):\n",
    "        print(i)"
   ]
  },
  {
   "cell_type": "markdown",
   "metadata": {},
   "source": [
    "### QUESTÃO 10:\n",
    "\n",
    "Um **palíndromo** é uma palavra, frase ou qualquer outra sequência de unidades que tenha a propriedade de poder ser lida tanto da direita para a esquerda como da esquerda para a direita. Alguns exemplos: 'aibofobia', 'luz azul', 'Hanah' e '20/02/2002'. \n",
    "\n",
    "Escreva um programa que recebe uma string e determina se é um palíndromo. "
   ]
  },
  {
   "cell_type": "code",
   "execution_count": 50,
   "metadata": {},
   "outputs": [],
   "source": [
    "def palindromo(texto): \n",
    "    if texto==texto[::-1]:\n",
    "        return True\n",
    "    else:\n",
    "        return False"
   ]
  },
  {
   "cell_type": "code",
   "execution_count": 51,
   "metadata": {},
   "outputs": [
    {
     "data": {
      "text/plain": [
       "True"
      ]
     },
     "execution_count": 51,
     "metadata": {},
     "output_type": "execute_result"
    }
   ],
   "source": [
    "palindromo('aibofobia')"
   ]
  },
  {
   "cell_type": "code",
   "execution_count": 52,
   "metadata": {},
   "outputs": [
    {
     "data": {
      "text/plain": [
       "False"
      ]
     },
     "execution_count": 52,
     "metadata": {},
     "output_type": "execute_result"
    }
   ],
   "source": [
    "palindromo('Hanah')"
   ]
  },
  {
   "cell_type": "code",
   "execution_count": 53,
   "metadata": {},
   "outputs": [],
   "source": [
    "def palindromo2(texto): \n",
    "    texto=texto.lower()\n",
    "    if texto==texto[::-1]:\n",
    "        return True\n",
    "    else:\n",
    "        return False"
   ]
  },
  {
   "cell_type": "code",
   "execution_count": 54,
   "metadata": {},
   "outputs": [
    {
     "data": {
      "text/plain": [
       "True"
      ]
     },
     "execution_count": 54,
     "metadata": {},
     "output_type": "execute_result"
    }
   ],
   "source": [
    "palindromo2('Hanah')"
   ]
  },
  {
   "cell_type": "code",
   "execution_count": 55,
   "metadata": {},
   "outputs": [
    {
     "data": {
      "text/plain": [
       "False"
      ]
     },
     "execution_count": 55,
     "metadata": {},
     "output_type": "execute_result"
    }
   ],
   "source": [
    "palindromo2('luz azul')"
   ]
  },
  {
   "cell_type": "code",
   "execution_count": 56,
   "metadata": {},
   "outputs": [
    {
     "name": "stdout",
     "output_type": "stream",
     "text": [
      "luzazul 20/02/2002\n",
      "luzazul 20022002\n"
     ]
    }
   ],
   "source": [
    "x1='luz azul'\n",
    "x2='20/02/2002'\n",
    "x1=x1.replace(' ','')\n",
    "x2=x2.replace(' ','')\n",
    "print(x1, x2)\n",
    "x1=x1.replace('/','')\n",
    "x2=x2.replace('/','')\n",
    "print(x1, x2)"
   ]
  },
  {
   "cell_type": "code",
   "execution_count": 57,
   "metadata": {},
   "outputs": [],
   "source": [
    "def palindromo3(texto): \n",
    "    texto=texto.lower()\n",
    "    texto=texto.replace(' ','')\n",
    "    texto=texto.replace('/','')\n",
    "    if texto==texto[::-1]:\n",
    "        return True\n",
    "    else:\n",
    "        return False"
   ]
  },
  {
   "cell_type": "code",
   "execution_count": 58,
   "metadata": {},
   "outputs": [
    {
     "data": {
      "text/plain": [
       "True"
      ]
     },
     "execution_count": 58,
     "metadata": {},
     "output_type": "execute_result"
    }
   ],
   "source": [
    "palindromo3('luz azul')"
   ]
  },
  {
   "cell_type": "code",
   "execution_count": 59,
   "metadata": {},
   "outputs": [
    {
     "data": {
      "text/plain": [
       "True"
      ]
     },
     "execution_count": 59,
     "metadata": {},
     "output_type": "execute_result"
    }
   ],
   "source": [
    "palindromo3('20/02/2002')"
   ]
  }
 ],
 "metadata": {
  "kernelspec": {
   "display_name": "Python 3",
   "language": "python",
   "name": "python3"
  },
  "language_info": {
   "codemirror_mode": {
    "name": "ipython",
    "version": 3
   },
   "file_extension": ".py",
   "mimetype": "text/x-python",
   "name": "python",
   "nbconvert_exporter": "python",
   "pygments_lexer": "ipython3",
   "version": "3.7.4"
  }
 },
 "nbformat": 4,
 "nbformat_minor": 2
}
