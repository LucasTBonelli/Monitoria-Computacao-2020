{
 "cells": [
  {
   "cell_type": "markdown",
   "metadata": {},
   "source": [
    "# Lista de Exercícios 4\n",
    "*Alguns exercícios foram retirados do livro: [The Python Workbook - Ben Stephenson](https://link.springer.com/book/10.1007/978-3-319-14240-1)."
   ]
  },
  {
   "cell_type": "code",
   "execution_count": 1,
   "metadata": {},
   "outputs": [],
   "source": [
    "import random as rd"
   ]
  },
  {
   "cell_type": "markdown",
   "metadata": {},
   "source": [
    "## QUESTÃO 1:\n",
    "\n",
    "Crie uma função que inverta um dicionário. A função deve receber como parâmetro de entrada um dicionário e retornar um novo dicionário em que as chaves são valores do dicionário de entrada e os valores são listas de chaves do dicionário de entrada. Por exemplo:\n",
    "\n",
    "```python\n",
    "dic_entrada={\"chave1\" : \"valor1\", \"chave2\" : \"valor2\", \"chave3\" : \"valor1\"}\n",
    "\n",
    "dic_saida={\"valor1\" : [\"chave1\", \"chave3\"], \"valor2\" : [\"chave2\"]}\n",
    "```"
   ]
  },
  {
   "cell_type": "code",
   "execution_count": null,
   "metadata": {},
   "outputs": [],
   "source": []
  },
  {
   "cell_type": "markdown",
   "metadata": {},
   "source": [
    "## QUESTÃO 2:\n",
    "\n",
    "Crie uma função que simule o lançamento de dois dados (de seis lados) $N$ vezes. Conforme seu programa é executado, ele deve contar o número de vezes que ocorre cada total, ou seja, a cada lançamento você deve armazenar a soma dos resultados de ambas as faces obtidas e ir contando quantas vezes esses valores se repetem até o final da simulacão. Sua função deverá retornar um dicionário com a frequência de cada resultado e a porcentagem esperada pela teoria da probabilidade para cada total. Ou seja, um dicionário em que as chaves são os resultados e o valores são listas de dois elementos, em que o primeiro elemento é a frequência (em porcentagem) e o segundo, o valor esperado (em porcentagem). \n",
    "\n",
    "Teste para $N=1000$."
   ]
  },
  {
   "cell_type": "code",
   "execution_count": null,
   "metadata": {},
   "outputs": [],
   "source": []
  },
  {
   "cell_type": "markdown",
   "metadata": {},
   "source": [
    "## QUESTÃO 3:\n",
    "\n",
    "Provavelmente você não utlizou um celular básico. Na época em que as mensagens de texto eram enviadas usando o próprio teclado numérico. Vamos fingir que não faz tanto tempo assim, está bem? Até porque eles ainda são comercializados. \n",
    "\n",
    "Em telefones assim, cada tecla possui várias letras associadas a ela, vários toques de tecla são necessários para a maioria das letras. Pressionar o número uma vez gera a primeira letra da tecla. Pressionar o número 2 ou 3 vezes gera a segunda ou terceira letra da tecla. \n",
    "\n",
    "Sua tarefa é criar uma função que recebe como parâmetro de entrada uma mensagem (o dicionário para a conversão também pode ser uma entrada) e retorne a sequência de cliques em cada tecla caso a mensagem fosse escrita em um celular básico.\n",
    "\n",
    "Para isso, você deve contruir um dicionário que mapeie de cada letra ou símbolo para as teclas pressionadas. \n",
    "\n",
    "| CHAVE \t|  SÍMBOLO  \t|\n",
    "|:-----:\t|:---------:\t|\n",
    "|   1   \t| . , ? ! : \t|\n",
    "|   2   \t|   A B C   \t|\n",
    "|   3   \t|   D E F   \t|\n",
    "|   4   \t|   G H I   \t|\n",
    "|   5   \t|   J K L   \t|\n",
    "|   6   \t|   M N O   \t|\n",
    "|   7   \t|  P Q R S  \t|\n",
    "|   8   \t|   T U V   \t|\n",
    "|   9   \t|  W X Y Z  \t|\n",
    "|   0   \t|   espaço  \t|\n",
    "\n",
    "\n",
    "Por exemplo, se você passar como entrada \"Hello, World!\" então, seu programa deve retornar 4433555555666110966677755531111. \n",
    "\n",
    "\n",
    "**OBS**: Certifique-se de que seu programa lida com letras maiúsculas e minúsculas. Ignore quaisquer caracteres que não estejam listados na tabela acima (também não estamos levando em consideração a acentuação das letras). "
   ]
  },
  {
   "cell_type": "code",
   "execution_count": null,
   "metadata": {},
   "outputs": [],
   "source": []
  },
  {
   "cell_type": "markdown",
   "metadata": {},
   "source": [
    "## QUESTÃO 4:\n",
    "\n",
    "O arquivo ``dados_eleicao.txt`` contém os dados de uma eleição, com as informações sobre número do eleitor (**NumEleitor**), bairro (**Bairro**) e código do candidato (**CodCandidato**). \n",
    "\n",
    "Sua tarefa é criar uma função que leia esse arquivo e:\n",
    "\n",
    "* calcule o total de votos e a porcentagem do total por **CodCandidato**;\n",
    "\n",
    "* calcule o total de votos e a porcentagem do total por **Bairro**;\n",
    "\n",
    "* calcule o total de votos e a porcentagem do total por **CodCandidato+Bairro**. \n",
    "\n",
    "Armazene esses resultados em três dicionários distintos para serem a saída da sua função.\n",
    "\n",
    "**DICA**: É interessante trabalhar com a ideia de criar funções auxiliares, quando uma determinada rotina se repete ao longo da função principal."
   ]
  },
  {
   "cell_type": "code",
   "execution_count": null,
   "metadata": {},
   "outputs": [],
   "source": []
  },
  {
   "cell_type": "markdown",
   "metadata": {},
   "source": [
    "## QUESTÃO 5:\n",
    "\n",
    "Ainda usando o arquivo ``dados_eleicao.txt``, crie uma função que retorne um diconário em ordem decrescente com os 10 candidatos que mais receberam votos. Veja a imagem abaixo, uma *word cloud*, para ter uma ideia da resposta (quanto maior a palavra mais vezes ela se repete).\n",
    "\n",
    "![](figuras/word_cloud.png)"
   ]
  },
  {
   "cell_type": "code",
   "execution_count": 2,
   "metadata": {},
   "outputs": [],
   "source": [
    "#Vamos usar os resultados obtidos na Questão 4!\n",
    "#candidatos,bairros,cand_bairros=eleicao('dados_eleicao.txt')"
   ]
  },
  {
   "cell_type": "code",
   "execution_count": 3,
   "metadata": {},
   "outputs": [],
   "source": [
    "#Curiosidade! Código para obter a word cloud.\n",
    "#!pip3 install WordCloud \n",
    "\n",
    "# import matplotlib.pyplot as plt\n",
    "# from wordcloud import WordCloud\n",
    "\n",
    "# #Os espaços entre os nomes foram retirados para não serem tratados como pessoas diferentes!\n",
    "# candidatosWC=[i.replace(' ','') for i in list(candidatos.keys())]\n",
    "# wc = WordCloud(background_color=\"black\", repeat=False).generate(\" \".join(candidatosWC))\n",
    "\n",
    "# plt.figure(figsize=(12,6))\n",
    "# plt.axis(\"off\")\n",
    "# plt.imshow(wc, interpolation=\"bilinear\")\n",
    "# plt.show()"
   ]
  },
  {
   "cell_type": "code",
   "execution_count": null,
   "metadata": {},
   "outputs": [],
   "source": []
  }
 ],
 "metadata": {
  "kernelspec": {
   "display_name": "Python 3",
   "language": "python",
   "name": "python3"
  },
  "language_info": {
   "codemirror_mode": {
    "name": "ipython",
    "version": 3
   },
   "file_extension": ".py",
   "mimetype": "text/x-python",
   "name": "python",
   "nbconvert_exporter": "python",
   "pygments_lexer": "ipython3",
   "version": "3.8.3"
  }
 },
 "nbformat": 4,
 "nbformat_minor": 2
}
