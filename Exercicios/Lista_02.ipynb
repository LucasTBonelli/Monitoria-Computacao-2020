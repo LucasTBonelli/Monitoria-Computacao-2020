{
 "cells": [
  {
   "cell_type": "markdown",
   "metadata": {},
   "source": [
    "# Lista de Exercícios 2\n",
    "*Alguns exercícios foram retirados do livro: [The Python Workbook - Ben Stephenson](https://link.springer.com/book/10.1007/978-3-319-14240-1)."
   ]
  },
  {
   "cell_type": "markdown",
   "metadata": {},
   "source": [
    "## QUESTÃO 1:\n",
    "\n",
    "Crie uma função que recebe como parâmetro de entrada dois números inteiros positivos e encontre o seu **Máximo Divisor Comum** (MDC)."
   ]
  },
  {
   "cell_type": "code",
   "execution_count": null,
   "metadata": {},
   "outputs": [],
   "source": []
  },
  {
   "cell_type": "markdown",
   "metadata": {},
   "source": [
    "## QUESTÃO 2:\n",
    "\n",
    "Agora, crie uma função que recebe como parâmetro de entrada dois números inteiros positivos e encontre o seu **Mínimo  Múltiplo Comum** (MMC)."
   ]
  },
  {
   "cell_type": "code",
   "execution_count": null,
   "metadata": {},
   "outputs": [],
   "source": []
  },
  {
   "cell_type": "markdown",
   "metadata": {},
   "source": [
    "## QUESTÃO 3:\n",
    "\n",
    "No iníco do curso, vimos como fazer conversão de números binários (base 2) para decimais (base 10). Portanto, crie uma função que recebe como parâmetro de entrada um número binário e calcula o número decimal correspondente."
   ]
  },
  {
   "cell_type": "code",
   "execution_count": null,
   "metadata": {},
   "outputs": [],
   "source": []
  },
  {
   "cell_type": "markdown",
   "metadata": {},
   "source": [
    "## QUESTÃO 4:\n",
    "\n",
    "Agora, escreva uma função que faça o inverso, ou seja, que faça a conversão de um número decimal (base 10) em número binário (base 2)."
   ]
  },
  {
   "cell_type": "code",
   "execution_count": null,
   "metadata": {},
   "outputs": [],
   "source": []
  },
  {
   "cell_type": "markdown",
   "metadata": {},
   "source": [
    "## QUESTÃO 5:\n",
    "\n",
    "Crie uma função que começa selecionando um número inteiro aleatório entre 1 e 100. Armazene esse valor inicial como sendo o maior número inteiro encontrado até o momento. Em seguida, gere aleatoriamente mais 99 números inteiros, verificando sempre se o novo valor é maior do que o máximo encontrado anteriormente. Caso seja maior, a função contabiliza que ocorreu uma atualização do valor máximo. Ao final, sua função deverá retornar o valor máximo encontrado e a quantidade de veses que o valor máximo foi atualizado durante o processo.\n",
    "\n",
    "Por exemplo,\n",
    "\n",
    "| Sorteio \t| Valor \t| Máximo \t| Atualizações \t|\n",
    "|:-------:\t|:-----:\t|:------:\t|:------------:\t|\n",
    "|    1    \t|   10  \t|   10   \t|              \t|\n",
    "|    2    \t|   5   \t|   10   \t|              \t|\n",
    "|    3    \t|   15  \t|   15   \t|       1      \t|\n",
    "|    4    \t|   14  \t|   15   \t|              \t|\n",
    "|    5    \t|   20  \t|   20   \t|       2      \t|\n",
    "\n",
    "Em $5$ sorteios, o valor máximo encontrado foi $20$ após $2$ atualizações."
   ]
  },
  {
   "cell_type": "code",
   "execution_count": null,
   "metadata": {},
   "outputs": [],
   "source": []
  },
  {
   "cell_type": "markdown",
   "metadata": {},
   "source": [
    "## QUESTÃO 6:\n",
    "\n",
    "Crie uma função que encontre o número mínimo de vezes que você tem que jogar uma moeda antes de poder ter três lançamentos consecutivos que resultam no mesmo resultado (ou todos os três são CARA (C) ou todos os três são COROA (K))? "
   ]
  },
  {
   "cell_type": "code",
   "execution_count": null,
   "metadata": {},
   "outputs": [],
   "source": []
  },
  {
   "cell_type": "markdown",
   "metadata": {},
   "source": [
    "## QUESTÃO 7:\n",
    "\n",
    "Escreva uma função que determina se uma senha é válida ou não. Uma boa senha é defnida segundo os seguintes critérios:\n",
    "\n",
    "* possui pelo menos 8 caracteres\n",
    "\n",
    "* contém pelo menos uma letra maiúscula\n",
    "\n",
    "* contém pelo menos uma letra minúscula\n",
    "\n",
    "* contém pelo menos um número\n",
    "\n",
    "\n",
    "Sua função deve retornar verdadeiro (True) se a senha informada for válida ou falso (False), caso contrário."
   ]
  },
  {
   "cell_type": "code",
   "execution_count": null,
   "metadata": {},
   "outputs": [],
   "source": []
  },
  {
   "cell_type": "markdown",
   "metadata": {},
   "source": [
    "## QUESTÃO 8:\n",
    "\n",
    "Uma **data mágica** é uma data em que o dia multiplicado pelo mês é igual ao ano de dois dígitos. Por exemplo, $10$ de junho de $1960$ é uma data mágica porque junho é o sexto mês e $6$ vezes $10$ é $60$, que é igual ao ano de dois dígitos. \n",
    "\n",
    "Escreva uma função que determina se uma data é ou não uma data mágica. "
   ]
  },
  {
   "cell_type": "code",
   "execution_count": null,
   "metadata": {},
   "outputs": [],
   "source": []
  },
  {
   "cell_type": "markdown",
   "metadata": {},
   "source": [
    "## QUESTÃO 9:\n",
    "\n",
    "Dizemos que dois números são **números amigos** se cada um deles é igual a soma dos **divisores próprios** do outro. Os divisores próprios de um número positivo $n$ são todos os divisores inteiros positivos de $n$ exceto o próprio $n$.\n",
    "\n",
    "Crie uma função que verifica se dois números são amigos (retorna True) ou não (retorna False). "
   ]
  },
  {
   "cell_type": "code",
   "execution_count": null,
   "metadata": {},
   "outputs": [],
   "source": []
  },
  {
   "cell_type": "markdown",
   "metadata": {},
   "source": [
    "## QUESTÃO 10:\n",
    "\n",
    "O CPF é formado por 11 dígitos numéricos que seguem a máscara \"###.###.###-##\", a **verificação do CPF** acontece utilizando os 9 primeiros dígitos e, com um cálculo simples, verificando se o resultado corresponde aos dois últimos dígitos (depois do sinal \"-\").\n",
    "\n",
    "**VALIDAÇÃO DO PRIMEIRO DÍGITO**\n",
    "\n",
    "* multiplicar os 9 primeiros dígitos pela sequência decrescente de números de 10 à 2 e somar os resultados;\n",
    "\n",
    "* multiplicar esse resultado por 10 e dividir por 11;\n",
    "\n",
    "* se o RESTO for igual ao primeiro dígito verificador (primeiro dígito depois do '-'), a primeira parte da validação está correta (se o resto da divisão for igual a 10, nós o consideramos como 0).\n",
    "\n",
    "**VALIDAÇÃO DO SEGUNDO DÍGITO**\n",
    "\n",
    "* multiplicar os 10 primeiros dígitos pela sequência decrescente de números de 11 à 2 e somar os resultados;\n",
    "\n",
    "* multiplicar esse resultado por 10 e dividir por 11;\n",
    "\n",
    "* se o RESTO for igual ao segundo dígito verificador (segundo dígito depois do '-'), a validação está correta!\n",
    "\n",
    "Sua tarefa é criar uma função que verifica se um CPF é válido. O parâmetro de entrada dessa função é uma string da seguinte forma: \"###.###.###-##\" e esse formato deve ser verificado antes de efetuar os cálculos da validação. \n",
    "\n",
    "Atente-se ao fato de que alguns CPFs passam nessa validação, mas ainda são inválidos. É o caso dos CPFs com dígitos repetidos (\"111.111.111-11\", \"222.222.222-22\", ... ). Adicione essa verficação!"
   ]
  },
  {
   "cell_type": "code",
   "execution_count": null,
   "metadata": {},
   "outputs": [],
   "source": []
  }
 ],
 "metadata": {
  "kernelspec": {
   "display_name": "Python 3",
   "language": "python",
   "name": "python3"
  },
  "language_info": {
   "codemirror_mode": {
    "name": "ipython",
    "version": 3
   },
   "file_extension": ".py",
   "mimetype": "text/x-python",
   "name": "python",
   "nbconvert_exporter": "python",
   "pygments_lexer": "ipython3",
   "version": "3.7.4"
  }
 },
 "nbformat": 4,
 "nbformat_minor": 2
}
