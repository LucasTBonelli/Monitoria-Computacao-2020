{
 "cells": [
  {
   "cell_type": "markdown",
   "metadata": {},
   "source": [
    "# Lista de Exercícios 1\n",
    "\n",
    "*Exercícios retirados do livro: [The Python Workbook - Ben Stephenson](https://link.springer.com/book/10.1007/978-3-319-14240-1).*"
   ]
  },
  {
   "cell_type": "markdown",
   "metadata": {},
   "source": [
    "## QUESTÃO 1:\n",
    "\n",
    "Vamos calcular a soma dos $n$ primeiros inteiros positivos? Podemos resolver isso de várias formas, mas por agora, a tarefa é fazer um programa que recebe um inteiro positivo $n$ e, em seguida, calcula a soma de todos os inteiros positivos de $1$ a $n$. \n",
    "\n",
    "Lembram da fórmula? \n",
    "\n",
    "$$S_n = \\frac{n(n+1)}{2}$$"
   ]
  },
  {
   "cell_type": "code",
   "execution_count": null,
   "metadata": {},
   "outputs": [],
   "source": []
  },
  {
   "cell_type": "markdown",
   "metadata": {},
   "source": [
    "## QUESTÃO 2:\n",
    "\n",
    "Uma forma de calcular a área de um triângulo é por meio de uma fórmula que depende do comprimento de todos os seus lados: $s_1$, $s_2$ e $s_3$. Seja \n",
    "\n",
    "$$s=\\frac{(s_1+s_2+s_3)}{2}$$\n",
    "\n",
    ", podemos calcular a área da seguinte forma:\n",
    "\n",
    "$$A=\\sqrt{s\\times(s-s_1)\\times(s-s_2)\\times(s-s_3)}$$\n",
    "\n",
    "Crie um programa que receba os comprimentos de todos os lados de um triângulo e exiba a sua área."
   ]
  },
  {
   "cell_type": "code",
   "execution_count": null,
   "metadata": {},
   "outputs": [],
   "source": []
  },
  {
   "cell_type": "markdown",
   "metadata": {},
   "source": [
    "## QUESTÃO 3:\n",
    "\n",
    "Crie um programa que receba um número inteiro de 4 dígitos e exiba a soma desses dígitos. Por exemplo, se o número for 2020, seu programa deverá retornar $2+0+2+0=4$."
   ]
  },
  {
   "cell_type": "code",
   "execution_count": null,
   "metadata": {},
   "outputs": [],
   "source": []
  },
  {
   "cell_type": "markdown",
   "metadata": {},
   "source": [
    "## QUESTÃO 4:\n",
    "\n",
    "Crie um programa que recebe três números inteiros e os exiba em ordem crescente.\n",
    "\n",
    "Dica: as funções `max()` e `min()` poderão ser úteis!"
   ]
  },
  {
   "cell_type": "code",
   "execution_count": null,
   "metadata": {},
   "outputs": [],
   "source": []
  },
  {
   "cell_type": "markdown",
   "metadata": {},
   "source": [
    "## QUESTÃO 5:\n",
    "\n",
    "É vogal ou consoante? A ideia é você criar um programa que classifica uma letra do alfabeto passada pelo usuário e devolve uma menssagem informando a sua classificação. "
   ]
  },
  {
   "cell_type": "code",
   "execution_count": null,
   "metadata": {},
   "outputs": [],
   "source": []
  },
  {
   "cell_type": "markdown",
   "metadata": {},
   "source": [
    "## QUESTÃO 6:\n",
    "\n",
    "Quantos dias tem um determinado mês? Sabemos que a duração de um mês pode variar de 28 a 31 dias. A ideia é criar um programa que, de acordo com o nome do mês que receber, exibe uma menssagem informando a quantidade de dias. Lembrando que fevereiro pode variar entre \"28 ou 29 dias\". "
   ]
  },
  {
   "cell_type": "code",
   "execution_count": null,
   "metadata": {},
   "outputs": [],
   "source": []
  },
  {
   "cell_type": "markdown",
   "metadata": {},
   "source": [
    "## QUESTÃO 7:\n",
    "\n",
    "As posições em um tabuleiro de xadrez são identificadas por uma **letra** (coluna) e um **número** (linha), conforme mostrado abaixo:\n",
    "\n",
    "![](figuras/imagem01.png)\n",
    "\n",
    "Desenvolva um programa que receba uma posição e determina a cor do quadrado. Por exemplo, para a posição **a1**, o seu programa deverá informar que o quadrado é **preto**; para a posição **d5**, deverá informar que o quadrado é **branco**."
   ]
  },
  {
   "cell_type": "code",
   "execution_count": null,
   "metadata": {},
   "outputs": [],
   "source": []
  },
  {
   "cell_type": "markdown",
   "metadata": {},
   "source": [
    "## QUESTÃO 8:\n",
    "\n",
    "Crie um programa que recebe um **mês** e um **dia** e, em seguida, de acordo com as classificações da tabela, determina a estação do ano correspondente. \n",
    "\n",
    "| Estação    \t| Data de Início \t|\n",
    "|------------\t|----------------\t|\n",
    "| Outono     \t| 20 de março    \t|\n",
    "| Inverno    \t| 20 de junho    \t|\n",
    "| Primavera  \t| 22 de setembro \t|\n",
    "| Verão      \t| 21 de dezembro \t|"
   ]
  },
  {
   "cell_type": "code",
   "execution_count": null,
   "metadata": {},
   "outputs": [],
   "source": []
  },
  {
   "cell_type": "markdown",
   "metadata": {},
   "source": [
    "## QUESTÃO 9:\n",
    "\n",
    "As regras para determinar se um ano é ou não um bissexto são as seguintes:\n",
    "\n",
    "* Qualquer ano divisível por 400 é um ano bissexto.\n",
    "\n",
    "\n",
    "* Dos anos restantes, qualquer ano divisível por 100 não é um ano bissexto.\n",
    "\n",
    "\n",
    "* Dos anos restantes, qualquer ano divisível por 4 é um ano bissexto.\n",
    "\n",
    "\n",
    "* Todos os outros anos não são anos bissextos.\n",
    "\n",
    "\n",
    "Escreva um programa que a partir de um ano informado, determina se o ano é ou não bissexto."
   ]
  },
  {
   "cell_type": "code",
   "execution_count": null,
   "metadata": {},
   "outputs": [],
   "source": []
  },
  {
   "cell_type": "markdown",
   "metadata": {},
   "source": [
    "## QUESTÃO 10:\n",
    "\n",
    "Um **palíndromo** é uma palavra, frase ou qualquer outra sequência de unidades que tenha a propriedade de poder ser lida tanto da direita para a esquerda como da esquerda para a direita. Alguns exemplos: 'aibofobia', 'luz azul', 'Hanah' e '20/02/2002'. \n",
    "\n",
    "Escreva um programa que recebe uma string e determina se é um palíndromo. "
   ]
  },
  {
   "cell_type": "code",
   "execution_count": null,
   "metadata": {},
   "outputs": [],
   "source": []
  }
 ],
 "metadata": {
  "kernelspec": {
   "display_name": "Python 3",
   "language": "python",
   "name": "python3"
  },
  "language_info": {
   "codemirror_mode": {
    "name": "ipython",
    "version": 3
   },
   "file_extension": ".py",
   "mimetype": "text/x-python",
   "name": "python",
   "nbconvert_exporter": "python",
   "pygments_lexer": "ipython3",
   "version": "3.7.4"
  }
 },
 "nbformat": 4,
 "nbformat_minor": 2
}
