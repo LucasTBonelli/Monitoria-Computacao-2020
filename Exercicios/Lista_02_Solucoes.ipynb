{
 "cells": [
  {
   "cell_type": "markdown",
   "metadata": {},
   "source": [
    "# Lista de Exercícios 2 (soluções propostas)\n",
    "*Alguns exercícios foram retirados do livro: [The Python Workbook - Ben Stephenson](https://link.springer.com/book/10.1007/978-3-319-14240-1).\n",
    "\n",
    "Não é um gabarito fechado. As soluções encontradas aqui são apenas algumas possibilidades. Usem a criatividade!"
   ]
  },
  {
   "cell_type": "markdown",
   "metadata": {},
   "source": [
    "## QUESTÃO 1:\n",
    "\n",
    "Crie uma função que recebe como parâmetro de entrada dois números inteiros positivos e encontre o seu **Máximo Divisor Comum** (MDC)."
   ]
  },
  {
   "cell_type": "markdown",
   "metadata": {},
   "source": [
    "Essa função pode ser desenvolvida checando os divisores de cada número envolvido e verificando qual é o maior deles que divide ambos os números. \n",
    "\n",
    "Um forma de otimizar o processo é começar a testar a dvisão pelo MENOR dos números envolvidos, por isso o teste para saber qual é o menor dos números passados como parâmetro de entrada. "
   ]
  },
  {
   "cell_type": "code",
   "execution_count": 1,
   "metadata": {},
   "outputs": [],
   "source": [
    "def mdc(n1,n2):\n",
    "    if n1<n2:\n",
    "        menor=n1\n",
    "    else:\n",
    "        menor=n2\n",
    "\n",
    "    #menor=min(n1,n2) # Já existe no Python uma função que calcula o valor mínimo! \n",
    "    \n",
    "    while n1%menor!=0 or n2%menor!=0: \n",
    "        menor=menor-1\n",
    "    \n",
    "    return menor"
   ]
  },
  {
   "cell_type": "code",
   "execution_count": 2,
   "metadata": {},
   "outputs": [
    {
     "data": {
      "text/plain": [
       "8"
      ]
     },
     "execution_count": 2,
     "metadata": {},
     "output_type": "execute_result"
    }
   ],
   "source": [
    "mdc(16,24)"
   ]
  },
  {
   "cell_type": "markdown",
   "metadata": {},
   "source": [
    "**A quesão termina aqui**, mas podemos resgatar a função feita em aula que lista todos os divisores de um número para confirmar e entender melhor esse resultado."
   ]
  },
  {
   "cell_type": "code",
   "execution_count": 3,
   "metadata": {},
   "outputs": [],
   "source": [
    "def listaDivisores(x):\n",
    "    divisores=[]\n",
    "    for i in range(1,x+1):\n",
    "        if x%i==0:\n",
    "            divisores.append(i)\n",
    "    return divisores"
   ]
  },
  {
   "cell_type": "code",
   "execution_count": 4,
   "metadata": {},
   "outputs": [
    {
     "name": "stdout",
     "output_type": "stream",
     "text": [
      "[1, 2, 4, 8, 16]\n",
      "[1, 2, 3, 4, 6, 8, 12, 24]\n",
      "O MDC entre 16 e 24 é 8!\n"
     ]
    }
   ],
   "source": [
    "n1=16\n",
    "n2=24\n",
    "print(listaDivisores(n1))\n",
    "print(listaDivisores(n2))\n",
    "print('O MDC entre {} e {} é {}!'.format(n1,n2,mdc(n1,n2)))"
   ]
  },
  {
   "cell_type": "markdown",
   "metadata": {},
   "source": [
    "## QUESTÃO 2:\n",
    "\n",
    "Agora, crie uma função que recebe como parâmetro de entrada dois números inteiros positivos e encontre o seu **Mínimo  Múltiplo Comum** (MMC)."
   ]
  },
  {
   "cell_type": "markdown",
   "metadata": {},
   "source": [
    "Lembrando que: se **um número é divisível por outro**, diferente de zero, então\n",
    "dizemos que ele é **múltiplo** desse outro.\n",
    "\n",
    "Nesse caso, uma  boa forma de otimizar o processo é começar a testar a dvisão pelo MAIOR dos números passados como parâmetro de entrada."
   ]
  },
  {
   "cell_type": "code",
   "execution_count": 5,
   "metadata": {},
   "outputs": [],
   "source": [
    "def mmc(n1,n2):\n",
    "    if n1<n2:\n",
    "        maior=n2\n",
    "    else:\n",
    "        manior=n1\n",
    "\n",
    "    #maior=max(n1,n2) # Já existe no Python uma função que calcula o valor máximo! \n",
    "    \n",
    "    achou=False\n",
    "    while achou==False:\n",
    "        if maior%n1==0 and maior%n2==0:\n",
    "            achou=True\n",
    "        else:\n",
    "            maior=maior+1\n",
    "\n",
    "    return maior"
   ]
  },
  {
   "cell_type": "code",
   "execution_count": 6,
   "metadata": {},
   "outputs": [
    {
     "data": {
      "text/plain": [
       "48"
      ]
     },
     "execution_count": 6,
     "metadata": {},
     "output_type": "execute_result"
    }
   ],
   "source": [
    "mmc(16,24)"
   ]
  },
  {
   "cell_type": "markdown",
   "metadata": {},
   "source": [
    "**A questão termina aqui**, mas e se quiséssemos criar uma função que recebe uma lista de números? A vantagem é que dessa forma o MMC poderia ser calculado para além de 2 números.\n",
    "\n",
    "Em\n",
    "\n",
    "```python\n",
    "...\n",
    "if all(maior%nr==0 for nr in nums): \n",
    "    ...\n",
    "```\n",
    "é o mesmo que,\n",
    "```python\n",
    "...\n",
    "if maior%nums[0]==0 and maior%nums[1]==1 and ... maior%nums[len(nums)-1]==1: \n",
    "    ...\n",
    "```"
   ]
  },
  {
   "cell_type": "code",
   "execution_count": 7,
   "metadata": {},
   "outputs": [],
   "source": [
    "def mmc2(nums):\n",
    "    maior=max(nums)\n",
    "    \n",
    "    achou=False\n",
    "    while achou==False:\n",
    "        if all(maior%nr==0 for nr in nums): \n",
    "            achou=True\n",
    "        else:\n",
    "            maior=maior+1\n",
    "            \n",
    "    return maior"
   ]
  },
  {
   "cell_type": "code",
   "execution_count": 8,
   "metadata": {},
   "outputs": [
    {
     "data": {
      "text/plain": [
       "120"
      ]
     },
     "execution_count": 8,
     "metadata": {},
     "output_type": "execute_result"
    }
   ],
   "source": [
    "mmc2([5,6,8])"
   ]
  },
  {
   "cell_type": "markdown",
   "metadata": {},
   "source": [
    "## QUESTÃO 3:\n",
    "\n",
    "No iníco do curso, vimos como fazer conversão de números binários (base 2) para decimais (base 10). Portanto, crie uma função que recebe como parâmetro de entrada um número binário e calcula o número decimal correspondente."
   ]
  },
  {
   "cell_type": "code",
   "execution_count": 9,
   "metadata": {},
   "outputs": [],
   "source": [
    "def binDec(numBin):\n",
    "    decimal=0\n",
    "    \n",
    "    q=numBin\n",
    "    i=0\n",
    "    while q!=0:\n",
    "        x=q%10    # Conseguimos ter acesso ao último dígito do número!\n",
    "        decimal=decimal+(x*2**i)\n",
    "        q=q//10   # Conseguimos ter acesso ao restante do número sem o últmo dígito!\n",
    "        i=i+1\n",
    "    return decimal"
   ]
  },
  {
   "cell_type": "code",
   "execution_count": 10,
   "metadata": {},
   "outputs": [
    {
     "data": {
      "text/plain": [
       "9"
      ]
     },
     "execution_count": 10,
     "metadata": {},
     "output_type": "execute_result"
    }
   ],
   "source": [
    "binDec(1001)"
   ]
  },
  {
   "cell_type": "markdown",
   "metadata": {},
   "source": [
    "Uma outra forma seria trabalhar com o parâmetro de entrada como sendo do tipo string. Consegue perceber em quais linhas o códgigo anterior sofreu alterações? "
   ]
  },
  {
   "cell_type": "code",
   "execution_count": 11,
   "metadata": {},
   "outputs": [],
   "source": [
    "def binDec2(numBin):\n",
    "    decimal=0\n",
    "    \n",
    "    q=str(numBin)\n",
    "    i=0\n",
    "    while q!='':\n",
    "        x=q[-1]    # Conseguimos ter acesso ao último dígito do número!\n",
    "        decimal=decimal+(int(x)*2**i)\n",
    "        q=q[:-1]   # Conseguimos ter acesso ao restante do número sem o últmo dígito!\n",
    "        i=i+1\n",
    "    return decimal"
   ]
  },
  {
   "cell_type": "code",
   "execution_count": 12,
   "metadata": {},
   "outputs": [
    {
     "data": {
      "text/plain": [
       "9"
      ]
     },
     "execution_count": 12,
     "metadata": {},
     "output_type": "execute_result"
    }
   ],
   "source": [
    "binDec2(1001)"
   ]
  },
  {
   "cell_type": "markdown",
   "metadata": {},
   "source": [
    "## QUESTÃO 4:\n",
    "\n",
    "Agora, escreva uma função que faça o inverso, ou seja, que faça a conversão de um número decimal (base 10) em número binário (base 2). Note que o parâmetro de entrada é um número inteiro e o de saída, uma string. "
   ]
  },
  {
   "cell_type": "code",
   "execution_count": 13,
   "metadata": {},
   "outputs": [],
   "source": [
    "def decBin(numDec):\n",
    "    \n",
    "    base=2\n",
    "    binario='' # Definimos a variável binario como uma string vazia!\n",
    "    \n",
    "    q=numDec\n",
    "    r=q%base\n",
    "    binario=str(r)+binario\n",
    "    q=q//base\n",
    "    \n",
    "    while q>0:\n",
    "        r=q%base\n",
    "        binario=str(r)+binario\n",
    "        q=q//base\n",
    "    \n",
    "    return binario"
   ]
  },
  {
   "cell_type": "code",
   "execution_count": 14,
   "metadata": {},
   "outputs": [
    {
     "data": {
      "text/plain": [
       "'1001'"
      ]
     },
     "execution_count": 14,
     "metadata": {},
     "output_type": "execute_result"
    }
   ],
   "source": [
    "decBin(9)"
   ]
  },
  {
   "cell_type": "markdown",
   "metadata": {},
   "source": [
    "## QUESTÃO 5:\n",
    "\n",
    "Crie uma função que começa selecionando um número inteiro aleatório entre 1 e 100. Armazene esse valor inicial como sendo o maior número inteiro encontrado até o momento. Em seguida, gere aleatoriamente mais 99 números inteiros, verificando sempre se o novo valor é maior do que o máximo encontrado anteriormente. Caso seja maior, a função contabiliza que ocorreu uma atualização do valor máximo. Ao final, sua função deverá retornar o valor máximo encontrado e a quantidade de veses que o valor máximo foi atualizado durante o processo."
   ]
  },
  {
   "cell_type": "code",
   "execution_count": 15,
   "metadata": {},
   "outputs": [],
   "source": [
    "import random as rd"
   ]
  },
  {
   "cell_type": "code",
   "execution_count": 16,
   "metadata": {},
   "outputs": [],
   "source": [
    "def maiorInteiro(num):\n",
    "    \n",
    "    maximo=rd.randint(1,num)\n",
    "    cont=0\n",
    "    \n",
    "    for i in range(num-1):\n",
    "        novo_valor=rd.randint(1,num)\n",
    "        if novo_valor>maximo:\n",
    "            maximo=novo_valor\n",
    "            cont=cont+1\n",
    "            \n",
    "    return maximo,cont"
   ]
  },
  {
   "cell_type": "code",
   "execution_count": 17,
   "metadata": {},
   "outputs": [
    {
     "data": {
      "text/plain": [
       "(97, 4)"
      ]
     },
     "execution_count": 17,
     "metadata": {},
     "output_type": "execute_result"
    }
   ],
   "source": [
    "maiorInteiro(100)"
   ]
  },
  {
   "cell_type": "markdown",
   "metadata": {},
   "source": [
    "## QUESTÃO 6:\n",
    "\n",
    "Crie uma função que encontre o número mínimo de vezes que você tem que jogar uma moeda antes de poder ter três lançamentos consecutivos que resultam no mesmo resultado (ou todos os três são CARA (C) ou todos os três são COROA (K))? \n",
    "\n",
    "Tente fazer uma simulação para saber quantos lançamentos são necessários fazer em média para obter tal feito? Para isso, você pode executar a função criada umas 10 vezes e calcular a média dos resultados. "
   ]
  },
  {
   "cell_type": "code",
   "execution_count": 18,
   "metadata": {},
   "outputs": [],
   "source": [
    "def lancamento():\n",
    "    moeda=rd.randint(1,2)\n",
    "    if moeda==1:\n",
    "        return 'C'\n",
    "    else:\n",
    "        return 'K'"
   ]
  },
  {
   "cell_type": "code",
   "execution_count": 19,
   "metadata": {},
   "outputs": [],
   "source": [
    "def moedas():\n",
    "    \n",
    "    #ops = ['C', 'K'] # Aqui trabalha com a ideia de listas!\n",
    "    resultado = ''\n",
    "    \n",
    "    while True:\n",
    "        #moeda=rd.choice(ops)\n",
    "        moeda=lancamento()\n",
    "        resultado=resultado+moeda\n",
    "        \n",
    "        if len(resultado) >= 3:\n",
    "            if ( resultado[-3] == resultado[-2] == resultado[-1] ):\n",
    "                break\n",
    "            else:\n",
    "                continue\n",
    "    return resultado, len(resultado)"
   ]
  },
  {
   "cell_type": "code",
   "execution_count": 20,
   "metadata": {},
   "outputs": [
    {
     "data": {
      "text/plain": [
       "('KKCCC', 5)"
      ]
     },
     "execution_count": 20,
     "metadata": {},
     "output_type": "execute_result"
    }
   ],
   "source": [
    "moedas()"
   ]
  },
  {
   "cell_type": "code",
   "execution_count": 21,
   "metadata": {},
   "outputs": [],
   "source": [
    "def simulaMoedas(rep):\n",
    "    resultados=[] \n",
    "    soma=0\n",
    "\n",
    "    for i in range(rep):\n",
    "        resultados.append(moedas())\n",
    "        soma=soma+resultados[i][1]\n",
    "        \n",
    "    print(*resultados, sep=\"\\n\") # Para o print sair com cada elemento da lista em linhas diferentes! \n",
    "    \n",
    "    media = soma/rep    \n",
    "    \n",
    "    return media"
   ]
  },
  {
   "cell_type": "code",
   "execution_count": 22,
   "metadata": {},
   "outputs": [
    {
     "name": "stdout",
     "output_type": "stream",
     "text": [
      "('KKK', 3)\n",
      "('KCKCCC', 6)\n",
      "('CKCCC', 5)\n",
      "('KKCKCKKCCC', 10)\n",
      "('KKCKCKKK', 8)\n",
      "('CKCCKKK', 7)\n",
      "('KCKCCC', 6)\n",
      "('CCC', 3)\n",
      "('CCKKK', 5)\n",
      "('KKK', 3)\n"
     ]
    },
    {
     "data": {
      "text/plain": [
       "5.6"
      ]
     },
     "execution_count": 22,
     "metadata": {},
     "output_type": "execute_result"
    }
   ],
   "source": [
    "simulaMoedas(10)"
   ]
  },
  {
   "cell_type": "markdown",
   "metadata": {},
   "source": [
    "Podemos explorar ainda mais essa simulação! Vamos deixar isso para as próxima aulas. "
   ]
  },
  {
   "cell_type": "markdown",
   "metadata": {},
   "source": [
    "## QUESTÃO 7:\n",
    "\n",
    "Escreva uma função que determina se uma senha é válida ou não. Uma boa senha é defnida segundo os seguintes critérios:\n",
    "\n",
    "* possui pelo menos 8 caracteres\n",
    "\n",
    "* contém pelo menos uma letra maiúscula\n",
    "\n",
    "* contém pelo menos uma letra minúscula\n",
    "\n",
    "* contém pelo menos um número\n",
    "\n",
    "\n",
    "Sua função deve retornar verdadeiro (True) se a senha informada for válida ou falso (False), caso contrário."
   ]
  },
  {
   "cell_type": "code",
   "execution_count": 23,
   "metadata": {},
   "outputs": [],
   "source": [
    "def validaSenha(senha):\n",
    "    \n",
    "    tem_maiuscula=False\n",
    "    tem_minuscula=False\n",
    "    tem_num=False\n",
    "    \n",
    "    alfabeto='abcdefghijklmnopqrstuvwxyz'\n",
    "    numeros='0123456789'\n",
    "    \n",
    "    for letra in senha:\n",
    "        if letra in alfabeto:\n",
    "            tem_minuscula=True\n",
    "        elif letra in alfabeto.upper():\n",
    "            tem_maiuscula=True\n",
    "        elif letra in numeros:\n",
    "            tem_num=True\n",
    "    \n",
    "    if len(senha)>=8 and tem_minuscula and tem_maiuscula and tem_num:\n",
    "        return True\n",
    "    else:\n",
    "        return False"
   ]
  },
  {
   "cell_type": "code",
   "execution_count": 24,
   "metadata": {},
   "outputs": [
    {
     "data": {
      "text/plain": [
       "False"
      ]
     },
     "execution_count": 24,
     "metadata": {},
     "output_type": "execute_result"
    }
   ],
   "source": [
    "validaSenha('anacarolina29')"
   ]
  },
  {
   "cell_type": "code",
   "execution_count": 25,
   "metadata": {},
   "outputs": [
    {
     "data": {
      "text/plain": [
       "True"
      ]
     },
     "execution_count": 25,
     "metadata": {},
     "output_type": "execute_result"
    }
   ],
   "source": [
    "validaSenha('anaCarolina29')"
   ]
  },
  {
   "cell_type": "markdown",
   "metadata": {},
   "source": [
    "## QUESTÃO 8:\n",
    "\n",
    "Uma **data mágica** é uma data em que o dia multiplicado pelo mês é igual ao ano de dois dígitos. Por exemplo, $10$ de junho de $1960$ é uma data mágica porque junho é o sexto mês e $6$ vezes $10$ é $60$, que é igual ao ano de dois dígitos. \n",
    "\n",
    "Escreva uma função que determina se uma data é ou não uma data mágica. "
   ]
  },
  {
   "cell_type": "code",
   "execution_count": 26,
   "metadata": {},
   "outputs": [],
   "source": [
    "def dataMagica(data):\n",
    "    \n",
    "    if len(data)!=10:\n",
    "        return 'Digite uma data válida! Formato da data: dd/mm/aaaa.'\n",
    "    \n",
    "    dia=int(data[:2])\n",
    "    mes=int(data[3:5])\n",
    "    decada=int(data[8:])\n",
    "    \n",
    "    if dia*mes==decada:\n",
    "        return True\n",
    "    else:\n",
    "        return False"
   ]
  },
  {
   "cell_type": "code",
   "execution_count": 27,
   "metadata": {},
   "outputs": [
    {
     "data": {
      "text/plain": [
       "True"
      ]
     },
     "execution_count": 27,
     "metadata": {},
     "output_type": "execute_result"
    }
   ],
   "source": [
    "dataMagica('10/06/1960')"
   ]
  },
  {
   "cell_type": "markdown",
   "metadata": {},
   "source": [
    "## QUESTÃO 9:\n",
    "\n",
    "Dizemos que dois números são amigos se cada um deles é igual a soma dos **divisores próprios** do outro. Os divisores próprios de um número positivo $n$ são todos os divisores inteiros positivos de $n$ exceto o próprio $n$.\n",
    "\n",
    "Crie uma função que verifica se dois números são amigos (retorna True) ou não (retorna False). "
   ]
  },
  {
   "cell_type": "code",
   "execution_count": 28,
   "metadata": {},
   "outputs": [],
   "source": [
    "def divisoresProprios(n):\n",
    "    \n",
    "    soma=0\n",
    "    for i in range(1,n-1): # Vai até n-1, pois n não é um divisor próprio!\n",
    "        if n%i==0:\n",
    "            soma=soma+i\n",
    "    return soma"
   ]
  },
  {
   "cell_type": "code",
   "execution_count": 29,
   "metadata": {},
   "outputs": [
    {
     "data": {
      "text/plain": [
       "220"
      ]
     },
     "execution_count": 29,
     "metadata": {},
     "output_type": "execute_result"
    }
   ],
   "source": [
    "divisoresProprios(284)"
   ]
  },
  {
   "cell_type": "code",
   "execution_count": 30,
   "metadata": {},
   "outputs": [
    {
     "data": {
      "text/plain": [
       "284"
      ]
     },
     "execution_count": 30,
     "metadata": {},
     "output_type": "execute_result"
    }
   ],
   "source": [
    "divisoresProprios(220)"
   ]
  },
  {
   "cell_type": "code",
   "execution_count": 31,
   "metadata": {},
   "outputs": [],
   "source": [
    "def numerosAmigos(n1,n2):\n",
    "    if divisoresProprios(n1)==n2 and n1==divisoresProprios(n2):\n",
    "        return True\n",
    "    else:\n",
    "        return False"
   ]
  },
  {
   "cell_type": "code",
   "execution_count": 32,
   "metadata": {},
   "outputs": [
    {
     "data": {
      "text/plain": [
       "True"
      ]
     },
     "execution_count": 32,
     "metadata": {},
     "output_type": "execute_result"
    }
   ],
   "source": [
    "numerosAmigos(284,220)"
   ]
  },
  {
   "cell_type": "markdown",
   "metadata": {},
   "source": [
    "## QUESTÃO 10:\n",
    "\n",
    "O CPF é formado por 11 dígitos numéricos que seguem a máscara \"###.###.###-##\", a **verificação do CPF** acontece utilizando os 9 primeiros dígitos e, com um cálculo simples, verificando se o resultado corresponde aos dois últimos dígitos (depois do sinal \"-\").\n",
    "\n",
    "**VALIDAÇÃO DO PRIMEIRO DÍGITO**\n",
    "\n",
    "* multiplicar os 9 primeiros dígitos pela sequência decrescente de números de 10 à 2 e somar os resultados;\n",
    "\n",
    "* multiplicar esse resultado por 10 e dividir por 11;\n",
    "\n",
    "* se o RESTO for igual ao primeiro dígito verificador (primeiro dígito depois do '-'), a primeira parte da validação está correta (se o resto da divisão for igual a 10, nós o consideramos como 0).\n",
    "\n",
    "**VALIDAÇÃO DO SEGUNDO DÍGITO**\n",
    "\n",
    "* multiplicar os 10 primeiros dígitos pela sequência decrescente de números de 11 à 2 e somar os resultados;\n",
    "\n",
    "* multiplicar esse resultado por 10 e dividir por 11;\n",
    "\n",
    "* se o RESTO for igual ao segundo dígito verificador (segundo dígito depois do '-'), a validação está correta!\n",
    "\n",
    "Sua tarefa é criar uma função que verifica se um CPF é válido. O parâmetro de entrada dessa função é uma string da seguinte forma: \"###.###.###-##\" e esse formato deve ser verificado antes de efetuar os cálculos da validação. \n",
    "\n",
    "Atente-se ao fato de que alguns CPFs passam nessa validação, mas ainda são inválidos. É o caso dos CPFs com dígitos repetidos (\"111.111.111-11\", \"222.222.222-22\", ... ). Adicione essa verficação!"
   ]
  },
  {
   "cell_type": "code",
   "execution_count": 33,
   "metadata": {},
   "outputs": [],
   "source": [
    "def verificaCPF(cpf):\n",
    "    \n",
    "    if cpf[3]=='.' and cpf[7]=='.' and cpf[11]=='-' and len(cpf)==(11+3):\n",
    "        \n",
    "        num1=cpf[:3]+cpf[4:7]+cpf[8:11]\n",
    "        d1=cpf[12]\n",
    "        d2=cpf[13]\n",
    "        num2=num1+d1\n",
    "        \n",
    "        if num2+d2==11*num2[0]:\n",
    "            return False\n",
    "            \n",
    "        else:\n",
    "            soma1=0\n",
    "            i=10\n",
    "            for n in num1:\n",
    "                soma1=soma1+i*int(n)\n",
    "                i=i-1\n",
    "            resto1=soma1*10%11\n",
    "            if resto1==10: resto1=0\n",
    "\n",
    "            soma2=0\n",
    "            j=11\n",
    "            for n in num2:\n",
    "                soma2=soma2+j*int(n)\n",
    "                j=j-1\n",
    "            resto2=soma2*10%11\n",
    "            if resto2==10: resto2=0\n",
    "\n",
    "            if resto1==int(d1) and resto2==int(d2):\n",
    "                return True\n",
    "            else:\n",
    "                return False\n",
    "        \n",
    "    else:\n",
    "        return 'ERRO! Você deve digitar um CPF no seguinte formato \"###.###.###-##\"'\n",
    "    "
   ]
  },
  {
   "cell_type": "code",
   "execution_count": 34,
   "metadata": {},
   "outputs": [
    {
     "data": {
      "text/plain": [
       "True"
      ]
     },
     "execution_count": 34,
     "metadata": {},
     "output_type": "execute_result"
    }
   ],
   "source": [
    "verificaCPF('529.982.247-25')"
   ]
  },
  {
   "cell_type": "code",
   "execution_count": 35,
   "metadata": {},
   "outputs": [
    {
     "data": {
      "text/plain": [
       "False"
      ]
     },
     "execution_count": 35,
     "metadata": {},
     "output_type": "execute_result"
    }
   ],
   "source": [
    "verificaCPF('111.111.111-11')"
   ]
  },
  {
   "cell_type": "code",
   "execution_count": 36,
   "metadata": {},
   "outputs": [
    {
     "data": {
      "text/plain": [
       "'ERRO! Você deve digitar um CPF no seguinte formato \"###.###.###-##\"'"
      ]
     },
     "execution_count": 36,
     "metadata": {},
     "output_type": "execute_result"
    }
   ],
   "source": [
    "verificaCPF('52998224725')"
   ]
  }
 ],
 "metadata": {
  "kernelspec": {
   "display_name": "Python 3",
   "language": "python",
   "name": "python3"
  },
  "language_info": {
   "codemirror_mode": {
    "name": "ipython",
    "version": 3
   },
   "file_extension": ".py",
   "mimetype": "text/x-python",
   "name": "python",
   "nbconvert_exporter": "python",
   "pygments_lexer": "ipython3",
   "version": "3.7.4"
  }
 },
 "nbformat": 4,
 "nbformat_minor": 2
}
