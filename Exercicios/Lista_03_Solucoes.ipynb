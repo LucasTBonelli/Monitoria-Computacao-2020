{
 "cells": [
  {
   "cell_type": "markdown",
   "metadata": {},
   "source": [
    "# Lista de Exercícios 3 (soluções propostas)\n",
    "*Alguns exercícios foram retirados do livro: [The Python Workbook - Ben Stephenson](https://link.springer.com/book/10.1007/978-3-319-14240-1).\n",
    "\n",
    "Não é um gabarito fechado. As soluções encontradas aqui são apenas algumas possibilidades. Usem a criatividade!"
   ]
  },
  {
   "cell_type": "code",
   "execution_count": 1,
   "metadata": {},
   "outputs": [],
   "source": [
    "import random as rd"
   ]
  },
  {
   "cell_type": "markdown",
   "metadata": {},
   "source": [
    "## QUESTÃO 1:\n",
    "\n",
    "Crie uma função que retorne uma lista contendo todas as sublistas possíveis dessa lista. Por exemplo, as sublistas de $[1, 2, 3]$ são $[]$, $[1]$, $[2]$, $[3]$, $[1, 2]$, $[2, 3]$ e $[1, 2, 3]$. Observe que sua função sempre retornará uma lista contendo pelo menos a lista vazia porque a lista vazia é uma sublista de todas as listas. "
   ]
  },
  {
   "cell_type": "code",
   "execution_count": 2,
   "metadata": {},
   "outputs": [],
   "source": [
    "def todasSublistas(lista):\n",
    "    sublistas=[[]] \n",
    "    for i in range(1, len(lista)+1):\n",
    "        for j in range(len(lista)-i+1):\n",
    "            sublistas.append(lista[j:j+i])\n",
    "    return sublistas"
   ]
  },
  {
   "cell_type": "code",
   "execution_count": 3,
   "metadata": {},
   "outputs": [
    {
     "data": {
      "text/plain": [
       "[[], [1], [2], [3], [1, 2], [2, 3], [1, 2, 3]]"
      ]
     },
     "execution_count": 3,
     "metadata": {},
     "output_type": "execute_result"
    }
   ],
   "source": [
    "todasSublistas([1,2,3])"
   ]
  },
  {
   "cell_type": "markdown",
   "metadata": {},
   "source": [
    "## QUESTÃO 2:\n",
    "\n",
    "Duas palavras são **anagramas** se possuírem todas as mesmas letras (e na mesma quantidade), mas em uma ordem diferente. Por exemplo, “amor” e “roma” são anagramas, assim como \"iracema\" e \"america\". Note que não estamos levando em consideração letras maiúsculas nem acentuação. \n",
    "\n",
    "Sua tarefa é criar uma função que recebe como parâmetros de entrada duas palavras e que determina se são ou não anagramas. \n",
    "\n",
    "**DICA 1:** Talvez seja melhor você criar uma função auxiliar que conta a quatidade de ocorrência de cada letra. Pense em uma função em que a saída seja uma lista de listas, em que cada sublista é formada por dois elementos: o primeiro é a letra e o segundo a quantidade de vezes em que ela aparece na palavra.\n",
    "\n",
    "**DICA 2:** Não é necessário, mas se você quiser fazer um tratamento da palavra antes de executar o código, você pode usar o procedimento ``.lower()`` para tornar todas as letras minúsculas. Também existe a função ``unidecode()`` da biblioteca ``unidecode`` que remove o acentos da palavra, mas essa biblioteca pode precisar de instalação. Por hora, não é necessário se preocupar com isso. "
   ]
  },
  {
   "cell_type": "code",
   "execution_count": 4,
   "metadata": {},
   "outputs": [],
   "source": [
    "#!pip3 install unidecode            #Caso a biblioteca não esteja instalada, execute essa linha!\n",
    "from unidecode import unidecode     #Importa somente a função unidecode da biblioteca unidecode"
   ]
  },
  {
   "cell_type": "code",
   "execution_count": 5,
   "metadata": {},
   "outputs": [
    {
     "data": {
      "text/plain": [
       "'aeiouac'"
      ]
     },
     "execution_count": 5,
     "metadata": {},
     "output_type": "execute_result"
    }
   ],
   "source": [
    "unidecode('áéíóúàç')"
   ]
  },
  {
   "cell_type": "code",
   "execution_count": 6,
   "metadata": {},
   "outputs": [],
   "source": [
    "def contaLetras(palavra):\n",
    "    #todasLetras=list(unidecode(palavra.lower())) #Convertemos as letras maiúsculas em minúsculas e acentos! \n",
    "    todasLetras=list(palavra.lower())             #Convertemos apenas as letras maiúsculas em minúsculas!\n",
    "    letras=[]\n",
    "    contagem=[]\n",
    "    for letra in todasLetras:\n",
    "        if letra not in letras:\n",
    "            letras.append(letra)\n",
    "            ocorrencias=todasLetras.count(letra)\n",
    "            contagem.append([letra,ocorrencias])\n",
    "    contagem.sort()\n",
    "    return contagem"
   ]
  },
  {
   "cell_type": "code",
   "execution_count": 7,
   "metadata": {},
   "outputs": [
    {
     "data": {
      "text/plain": [
       "[['a', 2], ['c', 1], ['e', 1], ['i', 1], ['m', 1], ['r', 1]]"
      ]
     },
     "execution_count": 7,
     "metadata": {},
     "output_type": "execute_result"
    }
   ],
   "source": [
    "contaLetras('America')"
   ]
  },
  {
   "cell_type": "code",
   "execution_count": 8,
   "metadata": {},
   "outputs": [],
   "source": [
    "def anagramas(palavra1,palavra2):\n",
    "    cont1=contaLetras(palavra1)\n",
    "    cont2=contaLetras(palavra2)\n",
    "    if palavra1!=palavra2 and cont1==cont2:\n",
    "        return True\n",
    "    else:\n",
    "        return False"
   ]
  },
  {
   "cell_type": "code",
   "execution_count": 9,
   "metadata": {},
   "outputs": [
    {
     "data": {
      "text/plain": [
       "True"
      ]
     },
     "execution_count": 9,
     "metadata": {},
     "output_type": "execute_result"
    }
   ],
   "source": [
    "anagramas('Iracema','America')"
   ]
  },
  {
   "cell_type": "markdown",
   "metadata": {},
   "source": [
    "## QUESTÃO 3:\n",
    "\n",
    "Crie uma função que simule um lançamento de dados. Lance o dado 100 vezes e armazene os resultados em um lista de listas que mostra a quantidade de vezes cada valor (de 1 a 6) foi obtido. Ou seja, cada sublista é formada por dois elementos: o valor e o número de vezes que ele apareceu. \n",
    "\n",
    "Em seguida, crie outra função que encontra qual o valor que saiu mais vezes e qual foi essa quantidade (ou seja, a saída é uma tupla ou uma lista de dois elementos). "
   ]
  },
  {
   "cell_type": "code",
   "execution_count": 10,
   "metadata": {},
   "outputs": [],
   "source": [
    "def dados():\n",
    "    #resultados=[[i,0] for i in list(range(1,7))] #Outra forma de construir a lista de resultados sem usar append!\n",
    "    resultados=[]\n",
    "    for i in range(1,7):\n",
    "        resultados.append([i,0])\n",
    "    for i in range(100):\n",
    "        jogada=rd.randint(1,6)\n",
    "        resultados[jogada-1][1]=resultados[jogada-1][1]+1\n",
    "    return resultados"
   ]
  },
  {
   "cell_type": "code",
   "execution_count": 11,
   "metadata": {},
   "outputs": [
    {
     "name": "stdout",
     "output_type": "stream",
     "text": [
      "[[1, 13], [2, 23], [3, 11], [4, 16], [5, 20], [6, 17]]\n"
     ]
    }
   ],
   "source": [
    "resultado=dados()\n",
    "print(resultado)"
   ]
  },
  {
   "cell_type": "code",
   "execution_count": 12,
   "metadata": {},
   "outputs": [],
   "source": [
    "def maiorResultado(resultados):\n",
    "    valor=resultados[0][0]\n",
    "    maximo=resultados[0][1]\n",
    "    for i in range(1,len(resultados)):\n",
    "        aux=resultados[i][1]\n",
    "        if aux>maximo:\n",
    "            valor=resultados[i][0]\n",
    "            maximo=aux\n",
    "    return [valor,maximo]"
   ]
  },
  {
   "cell_type": "code",
   "execution_count": 13,
   "metadata": {},
   "outputs": [
    {
     "data": {
      "text/plain": [
       "[2, 23]"
      ]
     },
     "execution_count": 13,
     "metadata": {},
     "output_type": "execute_result"
    }
   ],
   "source": [
    "maiorResultado(resultado)"
   ]
  },
  {
   "cell_type": "markdown",
   "metadata": {},
   "source": [
    "## QUESTÃO 4:\n",
    "\n",
    "Inicialmente, crie uma função que sorteia $n$ (parâmetro de entrada) cartas de um baralho, podendo ocorrer repetição.\n",
    "\n",
    "Em seguida cria outra função que sorteia essas $n$ cartas sem que ocorra repetição. Uma **dica**, nesse caso, é criar um baralho como uma lista de listas, ou seja, cada sublista representa uma carta, em que o primeiro elemento é o número da carta e o segundo, o naipe dela. \n",
    "\n",
    "Um baralho é formado por 52 cartas (números de 2 a 10, Valete (11), Rainha (12), Rei (13) e Ás (1)), dividido em 4 naipes (copas, ouros, paus e espadas). \n",
    "\n",
    "**DICA 1:** As cartas nomeadas também correspondem a números. Trabalhe com as cartas variando de 1 a 13.\n",
    "\n",
    "**DICA 2:** Na biblioteca ``random`` existe a função ``choice()``, que recebe como parâmetro de entrada uma lista e sorteia aleatoriamente um dos elementos dela.  Você pode usar essa função para sortear o naipe de uma carta."
   ]
  },
  {
   "cell_type": "code",
   "execution_count": 14,
   "metadata": {},
   "outputs": [
    {
     "data": {
      "text/plain": [
       "'paus'"
      ]
     },
     "execution_count": 14,
     "metadata": {},
     "output_type": "execute_result"
    }
   ],
   "source": [
    "naipe=rd.choice(['copas','ouros','paus','espadas'])\n",
    "naipe"
   ]
  },
  {
   "cell_type": "code",
   "execution_count": 15,
   "metadata": {},
   "outputs": [],
   "source": [
    "def baralhoComRepeticao(n):\n",
    "    #Sorteia n cartas, podendo ocorrer repetição.\n",
    "    lista=[]\n",
    "    for i in range(n):\n",
    "        carta=rd.randint(1,13)\n",
    "        naipe=rd.choice(['copas','ouros','paus','espadas'])\n",
    "        lista.append([carta,naipe])\n",
    "    return lista"
   ]
  },
  {
   "cell_type": "code",
   "execution_count": 16,
   "metadata": {},
   "outputs": [
    {
     "data": {
      "text/plain": [
       "[[8, 'espadas'],\n",
       " [10, 'ouros'],\n",
       " [3, 'ouros'],\n",
       " [10, 'espadas'],\n",
       " [3, 'espadas'],\n",
       " [8, 'ouros'],\n",
       " [7, 'paus'],\n",
       " [8, 'copas'],\n",
       " [5, 'paus'],\n",
       " [6, 'copas']]"
      ]
     },
     "execution_count": 16,
     "metadata": {},
     "output_type": "execute_result"
    }
   ],
   "source": [
    "baralhoComRepeticao(10)"
   ]
  },
  {
   "cell_type": "code",
   "execution_count": 17,
   "metadata": {},
   "outputs": [],
   "source": [
    "def baralhoSemRepeticao(n):\n",
    "    #Sorteia n cartas, SEM repetição.\n",
    "    if n>52:\n",
    "        print('Não dá pra sortear mais cartas do que existem!')\n",
    "        return []\n",
    "    naipes=['copas','ouros','paus','espadas']\n",
    "    baralho=[]\n",
    "    lista=[]\n",
    "    #Cria o baralho com as 52 cartas\n",
    "    for carta in range(1,14):\n",
    "        for naipe in range(4):\n",
    "            x=[carta,naipes[naipe]]\n",
    "            baralho.append(x)\n",
    "    #Começa o sorteio das n cartas\n",
    "    for i in range (n):\n",
    "        cartasorteada=baralho.pop(rd.randint(0,len(baralho)-1)) #sorteia o índice da lista e faz o pop\n",
    "        lista.append(cartasorteada) #insere o elemento retirado do baralho na lista de sorteadas\n",
    "    return lista"
   ]
  },
  {
   "cell_type": "code",
   "execution_count": 18,
   "metadata": {},
   "outputs": [
    {
     "data": {
      "text/plain": [
       "[[8, 'copas'],\n",
       " [2, 'copas'],\n",
       " [4, 'copas'],\n",
       " [3, 'espadas'],\n",
       " [8, 'ouros'],\n",
       " [13, 'copas'],\n",
       " [11, 'espadas'],\n",
       " [4, 'espadas'],\n",
       " [3, 'copas'],\n",
       " [9, 'espadas']]"
      ]
     },
     "execution_count": 18,
     "metadata": {},
     "output_type": "execute_result"
    }
   ],
   "source": [
    "baralhoSemRepeticao(10)"
   ]
  },
  {
   "cell_type": "markdown",
   "metadata": {},
   "source": [
    "## QUESTÃO 5:\n",
    "\n",
    "Na lista anterior (questão 6  da lista 2), foi pedido que você criasse uma função que encontrasse o número mínimo de vezes que você tem que jogar uma moeda antes de poder ter três lançamentos consecutivos que resultassem no mesmo resultado (ou todos os três são CARA (C) ou todos os três são COROA (K)). \n",
    "\n",
    "Agora, crie uma função que execute uma simulação para saber quantos lançamentos são necessários fazer em média para obter tal feito? Para isso, você pode executar a função criada umas 100 vezes e calcular a média dos resultados. "
   ]
  },
  {
   "cell_type": "code",
   "execution_count": 19,
   "metadata": {},
   "outputs": [],
   "source": [
    "def moedas():\n",
    "    ops = ['C', 'K'] #Já podemos usar a ideia de listas!\n",
    "    resultado = ''\n",
    "    while True:\n",
    "        moeda=rd.choice(ops) #Faz um aleatório entre os elementos da lista!\n",
    "        resultado=resultado+moeda\n",
    "        \n",
    "        if len(resultado) >= 3:\n",
    "            if ( resultado[-3] == resultado[-2] == resultado[-1] ):\n",
    "                break\n",
    "            else:\n",
    "                continue\n",
    "    return [resultado, len(resultado)]"
   ]
  },
  {
   "cell_type": "code",
   "execution_count": 20,
   "metadata": {},
   "outputs": [
    {
     "data": {
      "text/plain": [
       "['KKCKCCC', 7]"
      ]
     },
     "execution_count": 20,
     "metadata": {},
     "output_type": "execute_result"
    }
   ],
   "source": [
    "moedas()"
   ]
  },
  {
   "cell_type": "code",
   "execution_count": 21,
   "metadata": {},
   "outputs": [],
   "source": [
    "def simulaMoedas(rep):\n",
    "    resultados=[] \n",
    "    soma=0\n",
    "    for i in range(rep):\n",
    "        resultados.append(moedas())\n",
    "        soma=soma+resultados[i][1]\n",
    "        \n",
    "    print(*resultados, sep=\"\\n\") #Para o print sair com cada elemento da lista em linhas diferentes! \n",
    "    \n",
    "    media = soma/rep    \n",
    "    return media"
   ]
  },
  {
   "cell_type": "code",
   "execution_count": 22,
   "metadata": {},
   "outputs": [
    {
     "name": "stdout",
     "output_type": "stream",
     "text": [
      "['KKK', 3]\n",
      "['CKKCCC', 6]\n",
      "['KKK', 3]\n",
      "['CKKCCKKCKCCC', 12]\n",
      "['CKKCKKK', 7]\n",
      "['KCCKKCKKCKCCKKCCC', 17]\n",
      "['KCKKCKKK', 8]\n",
      "['KKK', 3]\n",
      "['KKK', 3]\n",
      "['KCCKKCCC', 8]\n"
     ]
    },
    {
     "data": {
      "text/plain": [
       "7.0"
      ]
     },
     "execution_count": 22,
     "metadata": {},
     "output_type": "execute_result"
    }
   ],
   "source": [
    "#simulaMoedas(100)\n",
    "simulaMoedas(10)"
   ]
  }
 ],
 "metadata": {
  "kernelspec": {
   "display_name": "Python 3",
   "language": "python",
   "name": "python3"
  },
  "language_info": {
   "codemirror_mode": {
    "name": "ipython",
    "version": 3
   },
   "file_extension": ".py",
   "mimetype": "text/x-python",
   "name": "python",
   "nbconvert_exporter": "python",
   "pygments_lexer": "ipython3",
   "version": "3.7.4"
  }
 },
 "nbformat": 4,
 "nbformat_minor": 2
}
